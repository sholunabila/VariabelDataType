{
 "cells": [
  {
   "cell_type": "markdown",
   "id": "72594c70",
   "metadata": {},
   "source": [
    "<h1>Belajar Variabel dan Tipe Data</h1><hr>\n",
    "Tipe Data Python yaitu <b>Integer,Float, Boolean, String, Complex</b>"
   ]
  },
  {
   "cell_type": "code",
   "execution_count": 10,
   "id": "217c5483",
   "metadata": {},
   "outputs": [
    {
     "name": "stdout",
     "output_type": "stream",
     "text": [
      "100\n",
      "<class 'int'>\n"
     ]
    }
   ],
   "source": [
    "data_integer = 100\n",
    "data_integer\n",
    "print(data_integer)\n",
    "print (type(data_integer))"
   ]
  },
  {
   "cell_type": "code",
   "execution_count": 11,
   "id": "d9f59402",
   "metadata": {},
   "outputs": [
    {
     "name": "stdout",
     "output_type": "stream",
     "text": [
      "10.5\n",
      "<class 'float'>\n"
     ]
    }
   ],
   "source": [
    "data_float = 10.5\n",
    "print(data_float)\n",
    "print (type(data_float))"
   ]
  },
  {
   "cell_type": "code",
   "execution_count": 13,
   "id": "ac0fccc4",
   "metadata": {},
   "outputs": [
    {
     "name": "stdout",
     "output_type": "stream",
     "text": [
      "True\n",
      "<class 'bool'>\n"
     ]
    }
   ],
   "source": [
    "data_boolean = True\n",
    "print(data_boolean)\n",
    "print(type(data_boolean))"
   ]
  },
  {
   "cell_type": "code",
   "execution_count": 32,
   "id": "914f6ff3",
   "metadata": {},
   "outputs": [
    {
     "name": "stdout",
     "output_type": "stream",
     "text": [
      "2405\n",
      "<class 'str'>\n"
     ]
    }
   ],
   "source": [
    "data_string = \"2405\"\n",
    "print(data_string)\n",
    "print(type(data_string))"
   ]
  },
  {
   "cell_type": "code",
   "execution_count": 17,
   "id": "340b17ed",
   "metadata": {},
   "outputs": [
    {
     "name": "stdout",
     "output_type": "stream",
     "text": [
      "(5+6j)\n",
      "<class 'complex'>\n"
     ]
    }
   ],
   "source": [
    "data_complex = complex (5,6)\n",
    "print(data_complex)\n",
    "print(type(data_complex))"
   ]
  },
  {
   "cell_type": "markdown",
   "id": "b9817151",
   "metadata": {},
   "source": [
    "<h2>Casting</h2><hr>\n",
    "<b><font color=\"blue\">Casing</font> adalahg proses melakukan konversi tipe data<br>\n",
    "<ol>\n",
    "    <li>Sintak casting menggunakan (tipe data)</li>\n",
    "    <li>Casting dapat di lakukan semua tipe data</li>\n",
    "</ol>"
   ]
  },
  {
   "cell_type": "code",
   "execution_count": 23,
   "id": "acb83a30",
   "metadata": {},
   "outputs": [
    {
     "name": "stdout",
     "output_type": "stream",
     "text": [
      "100\n",
      "100.0\n",
      "True\n",
      "<class 'str'>\n",
      "<class 'float'>\n"
     ]
    }
   ],
   "source": [
    "int_to_string = str(data_integer)\n",
    "int_to_float = float(data_integer)\n",
    "int_to_bool = bool(data_integer)\n",
    "\n",
    "print(int_to_string)\n",
    "print(int_to_float)\n",
    "print(int_to_bool)\n",
    "\n",
    "print(type(int_to_string))\n",
    "print(type(int_to_float))"
   ]
  },
  {
   "cell_type": "code",
   "execution_count": 24,
   "id": "e2366d38",
   "metadata": {},
   "outputs": [
    {
     "name": "stdout",
     "output_type": "stream",
     "text": [
      "True\n",
      "10.5\n",
      "(10.5+0j)\n",
      "<class 'bool'>\n",
      "<class 'str'>\n",
      "<class 'complex'>\n"
     ]
    }
   ],
   "source": [
    "int_to_bool = bool(data_float)\n",
    "int_to_string = str(data_float)\n",
    "int_to_complex = complex(data_float)\n",
    "\n",
    "print(int_to_bool)\n",
    "print(int_to_string)\n",
    "print(int_to_complex)\n",
    "\n",
    "print(type(int_to_bool))\n",
    "print(type(int_to_string))\n",
    "print(type(int_to_complex))"
   ]
  },
  {
   "cell_type": "code",
   "execution_count": 25,
   "id": "521dc5a2",
   "metadata": {},
   "outputs": [
    {
     "name": "stdout",
     "output_type": "stream",
     "text": [
      "True\n",
      "(1+0j)\n",
      "1.0\n",
      "<class 'str'>\n",
      "<class 'complex'>\n",
      "<class 'float'>\n"
     ]
    }
   ],
   "source": [
    "int_to_string = str(data_boolean)\n",
    "int_to_complex = complex(data_boolean)\n",
    "int_to_float = float(data_boolean)\n",
    "\n",
    "print(int_to_string)\n",
    "print(int_to_complex)\n",
    "print(int_to_float)\n",
    "\n",
    "print(type(int_to_string))\n",
    "print(type(int_to_complex))\n",
    "print(type(int_to_float))"
   ]
  },
  {
   "cell_type": "code",
   "execution_count": 33,
   "id": "a4b34c3f",
   "metadata": {},
   "outputs": [
    {
     "name": "stdout",
     "output_type": "stream",
     "text": [
      "True\n",
      "2405.0\n",
      "2405\n",
      "<class 'str'>\n",
      "<class 'float'>\n",
      "<class 'int'>\n"
     ]
    }
   ],
   "source": [
    "int_to_bool = bool(data_string)\n",
    "int_to_float = float(data_string)\n",
    "int_to_integer = int(data_string)\n",
    "\n",
    "print(int_to_bool)\n",
    "print(int_to_float)\n",
    "print(int_to_integer)\n",
    "\n",
    "print(type(int_to_string))\n",
    "print(type(int_to_float))\n",
    "print(type(int_to_integer))"
   ]
  },
  {
   "cell_type": "code",
   "execution_count": null,
   "id": "ec4bd2ff",
   "metadata": {},
   "outputs": [],
   "source": []
  }
 ],
 "metadata": {
  "kernelspec": {
   "display_name": "Python 3 (ipykernel)",
   "language": "python",
   "name": "python3"
  },
  "language_info": {
   "codemirror_mode": {
    "name": "ipython",
    "version": 3
   },
   "file_extension": ".py",
   "mimetype": "text/x-python",
   "name": "python",
   "nbconvert_exporter": "python",
   "pygments_lexer": "ipython3",
   "version": "3.9.12"
  }
 },
 "nbformat": 4,
 "nbformat_minor": 5
}
